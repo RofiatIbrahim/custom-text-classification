{
 "cells": [
  {
   "cell_type": "code",
   "execution_count": 26,
   "metadata": {},
   "outputs": [
    {
     "name": "stdout",
     "output_type": "stream",
     "text": [
      "What would you like to do: send 500 to 08066225693\n"
     ]
    }
   ],
   "source": [
    "user_input = input(\"What would you like to do: \")"
   ]
  },
  {
   "cell_type": "code",
   "execution_count": 27,
   "metadata": {},
   "outputs": [],
   "source": [
    "splited_list = list(user_input.split(\" \"))"
   ]
  },
  {
   "cell_type": "code",
   "execution_count": 28,
   "metadata": {},
   "outputs": [],
   "source": [
    "numbers = [item for item in splited_list if item.isdigit()]"
   ]
  },
  {
   "cell_type": "code",
   "execution_count": 29,
   "metadata": {},
   "outputs": [
    {
     "name": "stdout",
     "output_type": "stream",
     "text": [
      "Amount: 500\n",
      "Airtime Purchase\n",
      "Phone number: 08066225693\n"
     ]
    }
   ],
   "source": [
    "if \"transfer\" or \"send\" or \"buy\" or \"pay\" in splited_list:\n",
    "    for number in numbers:\n",
    "        if len(number) == 10:\n",
    "            print(\"Bank Transfer\")\n",
    "            print(\"Account number:\", number)\n",
    "        elif len(number) == 11:\n",
    "            print(\"Airtime Purchase\")\n",
    "            print(\"Phone number:\", number)\n",
    "        else:\n",
    "            print(\"Amount:\", number)\n",
    "    if \"money\" in splited_list:\n",
    "        print(\"Bank Transfer\")\n",
    "        for number in numbers:\n",
    "            if len(number) == 10:\n",
    "                print(\"Account number:\", number)\n",
    "            else:\n",
    "                print(\"Amount:\", number)\n",
    "    elif \"airtime\" in splited_list:\n",
    "        print(\"Airtime Purchase\")\n",
    "        for number in numbers:\n",
    "            if len(number) == 11:\n",
    "                print(\"Phone number:\", number)\n",
    "            else:\n",
    "                print(\"Amount:\", number)\n",
    "    elif \"bills\" in splited_list:\n",
    "        print(\"Pay Bills\")\n",
    "        for number in numbers:\n",
    "            if len(number) == 10:\n",
    "                print(\"Account number:\", number)\n",
    "            else:\n",
    "                print(\"Amount:\", number)\n",
    "    elif \"make\" in splited_list:\n",
    "        print(\"Bank Transfer\")\n",
    "        for number in numbers:\n",
    "            if len(number) == 10:\n",
    "                print(\"Account number:\", number)\n",
    "            else:\n",
    "                print(\"Amount:\", number)"
   ]
  },
  {
   "cell_type": "code",
   "execution_count": null,
   "metadata": {},
   "outputs": [],
   "source": []
  }
 ],
 "metadata": {
  "kernelspec": {
   "display_name": "Python 3",
   "language": "python",
   "name": "python3"
  },
  "language_info": {
   "codemirror_mode": {
    "name": "ipython",
    "version": 3
   },
   "file_extension": ".py",
   "mimetype": "text/x-python",
   "name": "python",
   "nbconvert_exporter": "python",
   "pygments_lexer": "ipython3",
   "version": "3.8.5"
  }
 },
 "nbformat": 4,
 "nbformat_minor": 4
}
